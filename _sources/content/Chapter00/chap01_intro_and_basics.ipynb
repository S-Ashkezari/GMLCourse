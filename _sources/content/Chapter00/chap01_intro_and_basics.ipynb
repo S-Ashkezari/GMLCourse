{
 "cells": [
  {
   "cell_type": "markdown",
   "metadata": {},
   "source": [
    "# Introduction to Graph Machine Learning\n",
    "\n",
    "Graphs are a powerful and flexible data structure that naturally represent complex relationships and interactions among entities. From social networks and recommendation systems to biological networks and transportation systems, graphs are everywhere. Traditional machine learning techniques often struggle to capture these rich relational patterns. This is where **Graph Machine Learning (Graph ML)** comes into play.\n",
    "\n",
    "🔍 **Why Traditional Machine Learning Falls Short on Graph Data**\n",
    "1. Assumes Independent and Identically Distributed (i.i.d.) Data\n",
    "\n",
    "   \n",
    "Traditional ML models treat each data point as independent, ignoring dependencies that are essential in graph-structured data (e.g., social ties, molecular bonds).\n",
    "\n",
    "2. Ignores Graph Topology\n",
    "   \n",
    "Conventional algorithms do not utilize the rich topological structure of graphs, such as neighborhood, clustering, or centrality, which often carry significant semantic information.\n",
    "\n",
    "| Feature | Traditional Algorithms (KNN, Clustering) | Graph Machine Learning |\n",
    "|---------|-------------------------------------------|-------------------------|\n",
    "| **Basis of relationship** | Distance in vector space (e.g., Euclidean, Cosine) | Explicit edges in a graph |\n",
    "| **Network topology** | Ignored | Fully modeled |\n",
    "| **Neighborhood definition** | Based on distance only | Based on graph connectivity |\n",
    "| **Graph-specific features (e.g., degree, centrality)** | Not supported | Actively utilized |\n",
    "| **Information propagation** | Not available | Core concept (e.g., message passing) |\n",
    "| **Modeling complex relations** | Limited | Very expressive (e.g., in social or molecular networks) |\n",
    "| **Typical applications** | Text classification, market segmentation | Social network analysis, drug discovery |\n",
    "\n",
    "\n",
    "3. Requires Tabular Input\n",
    "\n",
    "   \n",
    "Standard ML expects fixed-size vector inputs, while real-world data (e.g., social networks, biological systems) is often non-Euclidean and best represented as graphs.\n",
    "\n",
    "4. Cannot Model Influence and Information Propagation\n",
    "   \n",
    "Many real-world phenomena involve the spread of information across nodes. Graph ML captures this through techniques like message passing, which are absent in traditional models.\n",
    "\n",
    "\n",
    "-----------------\n",
    "Graph ML is a rapidly growing area at the intersection of machine learning and network science. It leverages both the features of individual entities (nodes) and their connections (edges) to make predictions, uncover patterns, and generate meaningful representations. Recent advances in **Graph Neural Networks (GNNs)** have made it possible to apply deep learning directly to graph-structured data, enabling breakthroughs in various domains.\n",
    "\n",
    "This workshop is designed to provide a hands-on introduction to the core concepts, techniques, and tools used in Graph Machine Learning. We will cover:\n",
    "\n",
    "- The fundamentals of graph theory and graph data structures  \n",
    "- Techniques for feature extraction and graph representation  \n",
    "- Introduction to Graph Neural Networks and their applications  \n",
    "- Practical exercises using Python libraries such as `NetworkX` and `PyTorch Geometric`\n",
    "\n",
    "**By the end of this workshop**, participants will have a solid understanding of how to represent, analyze, and learn from graph data, equipping them with skills applicable to modern machine learning challenges.\n",
    "\n",
    "> Let’s explore how learning from connections can lead to deeper insights!\n"
   ]
  },
  {
   "cell_type": "markdown",
   "metadata": {},
   "source": [
    "## 1. Difference Between Tabular and Graph Data\n",
    "\n",
    "Tabular data consists of structured features for each instance, typically stored in a DataFrame.\n",
    "In contrast, graph data models complex relationships between instances, useful in various domains like social networks, recommender systems, and bioinformatics.\n"
   ]
  },
  {
   "cell_type": "code",
   "execution_count": 1,
   "metadata": {},
   "outputs": [],
   "source": [
    "#pip install pandas\n"
   ]
  },
  {
   "cell_type": "code",
   "execution_count": 2,
   "metadata": {},
   "outputs": [],
   "source": [
    "#pip install matplotlib"
   ]
  },
  {
   "cell_type": "code",
   "execution_count": 3,
   "metadata": {},
   "outputs": [
    {
     "name": "stdout",
     "output_type": "stream",
     "text": [
      "\n",
      "Tabular Data:\n",
      "    ID  Feature1  Feature2\n",
      "0   1       0.5       0.1\n",
      "1   2       0.7       0.8\n",
      "2   3       0.2       0.3\n"
     ]
    }
   ],
   "source": [
    "import pandas as pd\n",
    "import matplotlib.pyplot as plt\n",
    "\n",
    "# Example of tabular data\n",
    "data = pd.DataFrame({\n",
    "    'ID': [1, 2, 3],\n",
    "    'Feature1': [0.5, 0.7, 0.2],\n",
    "    'Feature2': [0.1, 0.8, 0.3]\n",
    "})\n",
    "\n",
    "print(\"\\nTabular Data:\\n\", data)"
   ]
  },
  {
   "cell_type": "markdown",
   "metadata": {},
   "source": [
    "### Different ways to define edges in a graph:\n",
    "\n",
    "| **Method**                        | **Description**                                                                 | **Example Use Cases**                             |\n",
    "|----------------------------------|---------------------------------------------------------------------------------|---------------------------------------------------|\n",
    "| **Explicit Structure**           | Edges are defined by known relationships in the data.                          | Social networks, molecules, transportation maps   |\n",
    "| **Feature Similarity**           | Connect nodes with high similarity based on feature vectors.                   | Image datasets, user profiles                     |\n",
    "| **k-Nearest Neighbors (k-NN)**   | Each node is connected to its *k* most similar nodes.                          | Vector-based datasets, recommender systems        |\n",
    "| **Graph Structure Learning**     | The model learns the optimal structure during training.                        | Noisy or unknown structure, deep learning models  |\n",
    "| **Semantic or Logical Relations**| Edges represent logical or semantic dependencies between entities.             | Knowledge graphs, NLP dependency trees            |\n",
    "| **Co-occurrence**                | Edges are formed between nodes that frequently appear together.                | Text analysis, medical co-diagnoses               |\n"
   ]
  },
  {
   "cell_type": "code",
   "execution_count": 4,
   "metadata": {},
   "outputs": [],
   "source": [
    "#pip install networkx"
   ]
  },
  {
   "cell_type": "code",
   "execution_count": 5,
   "metadata": {},
   "outputs": [
    {
     "data": {
      "image/png": "[encoded data removed]",
      "text/plain": [
       "<Figure size 400x400 with 1 Axes>"
      ]
     },
     "metadata": {},
     "output_type": "display_data"
    }
   ],
   "source": [
    "import networkx as nx\n",
    "# Creating a simple graph with NetworkX\n",
    "G = nx.Graph()\n",
    "G.add_edges_from([(1, 2), (2, 3), (3, 1)])\n",
    "\n",
    "plt.figure(figsize=(4, 4))\n",
    "nx.draw(G, with_labels=True, node_color='lightblue', edge_color='gray')\n",
    "plt.title(\"Graph Representation\")\n",
    "plt.show()"
   ]
  },
  {
   "attachments": {},
   "cell_type": "markdown",
   "metadata": {},
   "source": [
    "\n",
    "## 2. Introduction to Structured Data in Graphs\n",
    "\n",
    "\n",
    "Graphs are a flexible way to represent structured data, and they can vary widely depending on the nature of the data and its dynamics. Key types of graph structures include:\n",
    "\n",
    "• **Static Graphs**\n",
    "These graphs do not change over time. The nodes and edges remain fixed after the graph is created.\n",
    "\n",
    "Example: Road maps, power grids, or anatomical brain networks.\n",
    "\n",
    "\n",
    "\n",
    "![Static Graphs](../images/chap0_1.png)\n",
    "\n",
    "• **Dynamic Graphs**\n",
    "These graphs evolve over time, with nodes and/or edges appearing, disappearing, or changing attributes.\n",
    "\n",
    "Example: Social networks where users form new connections or communication patterns evolve.\n",
    "\n",
    "📌 Dynamic graphs often require temporal modeling techniques to capture the sequence or frequency of changes.\n",
    "![Static Graphs](../images/chap0_2.ppm)\n",
    "\n",
    "\n",
    "• **Homogeneous vs. Heterogeneous Graphs**\n",
    "Homogeneous Graphs contain only one type of node and edge.\n",
    "\n",
    "Heterogeneous Graphs consist of multiple types of nodes and/or edges, each possibly representing different entities or relationships.\n",
    "\n",
    "Example (Heterogeneous):\n",
    "In a biological knowledge graph:\n",
    "\n",
    "Nodes: proteins, diseases, drugs\n",
    "\n",
    "Edges: interactions, treatments, causes\n",
    "\n",
    "📌 Heterogeneous graphs require models that can handle multiple semantics simultaneously.\n",
    "![Static Graphs](../images/chap0_3.png)\n",
    "\n",
    "## 3. Definition of Graphs and Basic Concepts\n",
    "\n",
    "\n",
    "- Node (Vertex): Represents an entity (user, product, protein, etc.).\n",
    "- Edge: Represents a relationship between two nodes (friendship, interaction, protein-protein connection).\n",
    "- Types of Graphs:\n",
    "  - Directed: Connections have direction.\n",
    "  - Weighted: Edges have specific weights.\n",
    "  - Heterogeneous: Includes different types of nodes and edges.\n",
    "\n",
    "\n",
    "## 4. Overview of Machine Learning\n",
    "\n",
    "\n",
    "- Supervised Learning: Data is labeled (classification, regression).\n",
    "- Unsupervised Learning: No labels (clustering, dimensionality reduction).\n",
    "- Semi-Supervised Learning: A mix of labeled and unlabeled data.\n",
    "\n",
    "\n",
    "## 5. Connection Between Machine Learning and Graphs\n",
    "\n",
    "\n",
    "Graphs help model structural information, improving ML model accuracy.\n",
    "Examples:\n",
    "- Knowledge Graphs for information extraction.\n",
    "- Node representation learning using Node2Vec and Graph Neural Networks (GNNs).\n",
    "\n"
   ]
  },
  {
   "cell_type": "markdown",
   "metadata": {},
   "source": [
    "## 7. Practical: Introduction to NetworkX and Graph Creation in Python\n",
    "\n"
   ]
  },
  {
   "cell_type": "code",
   "execution_count": 6,
   "metadata": {},
   "outputs": [
    {
     "data": {
      "image/png": "[encoded data removed]",
      "text/plain": [
       "<Figure size 400x400 with 1 Axes>"
      ]
     },
     "metadata": {},
     "output_type": "display_data"
    }
   ],
   "source": [
    "# Creating a more complex graph with additional attributes\n",
    "G = nx.DiGraph()  # Directed graph\n",
    "G.add_nodes_from([\n",
    "    (1, {\"label\": \"User A\"}),\n",
    "    (2, {\"label\": \"User B\"}),\n",
    "    (3, {\"label\": \"User C\"})\n",
    "])\n",
    "G.add_edges_from([(1, 2), (2, 3), (1, 3)])\n",
    "\n",
    "plt.figure(figsize=(4, 4))\n",
    "nx.draw(G, with_labels=True, node_color='lightgreen', edge_color='gray')\n",
    "plt.title(\"Directed Graph Representation\")\n",
    "plt.show()\n",
    "\n"
   ]
  },
  {
   "cell_type": "markdown",
   "metadata": {},
   "source": [
    "\n",
    "✅ In this chapter, we discussed the difference between tabular and graph data.\n",
    "\n",
    "✅ We introduced fundamental graph concepts.\n",
    "\n",
    "✅ We explored the importance of graphs in machine learning.\n",
    "\n",
    "✅ We performed our first practical experiment with NetworkX.\n"
   ]
  },
  {
   "cell_type": "code",
   "execution_count": null,
   "metadata": {},
   "outputs": [],
   "source": []
  }
 ],
 "metadata": {
  "kernelspec": {
   "display_name": "mlgBook",
   "language": "python",
   "name": "mlgbook"
  },
  "language_info": {
   "codemirror_mode": {
    "name": "ipython",
    "version": 3
   },
   "file_extension": ".py",
   "mimetype": "text/x-python",
   "name": "python",
   "nbconvert_exporter": "python",
   "pygments_lexer": "ipython3",
   "version": "3.8.20"
  }
 },
 "nbformat": 4,
 "nbformat_minor": 4
}
