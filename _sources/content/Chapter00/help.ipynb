{
 "cells": [
  {
   "cell_type": "markdown",
   "id": "e1f71c8b-408c-4ba5-866b-59f4c605f99a",
   "metadata": {},
   "source": [
    "## Step-by-Step Setup Guide: Anaconda, Virtual Environments, and Jupyter Kernel Configuration"
   ]
  },
  {
   "cell_type": "markdown",
   "id": "11b5556f-978a-4302-80cc-35d64585655a",
   "metadata": {},
   "source": [
    "Here is a step-by-step guide for installing Anaconda, creating a virtual environment, installing Jupyter, and setting up the kernel to be ready for your work:"
   ]
  },
  {
   "cell_type": "markdown",
   "id": "c09db541-05f7-43fc-8d64-1e5dc226d91f",
   "metadata": {},
   "source": [
    "# Step 1: Install Anaconda\n",
    "## Download Anaconda:\n",
    "\n",
    "Go to the official Anaconda website: https://www.anaconda.com/products/distribution\n",
    "\n",
    "Choose the version appropriate for your operating system (Windows, macOS, or Linux).\n",
    "\n",
    "Download the Graphical Installer for your OS.\n",
    "\n",
    "## Install Anaconda:\n",
    "\n",
    "Run the installer after downloading.\n",
    "\n",
    "Follow the installation instructions.\n",
    "\n",
    "During the installation, make sure to check the option that says Add Anaconda to my PATH environment variable (or choose the default settings).\n",
    "\n",
    "Once installation is complete, verify by opening a terminal (Command Prompt on Windows) and typing:"
   ]
  },
  {
   "cell_type": "code",
   "execution_count": null,
   "id": "9aa87062-19e3-45f1-8bcf-7eb9350a8987",
   "metadata": {},
   "outputs": [],
   "source": [
    "conda --version\n"
   ]
  },
  {
   "cell_type": "markdown",
   "id": "7d4741ba-dad8-45aa-ae31-f11acd028e2e",
   "metadata": {},
   "source": [
    "You should see the installed version of Anaconda.\n",
    "\n",
    "# Step 2: Create a New Virtual Environment\n",
    "## Create Environment:\n",
    "\n",
    "Open the terminal (Command Prompt on Windows, Terminal on macOS/Linux).\n",
    "\n",
    "To create a new environment (let's name it myenv), type:"
   ]
  },
  {
   "cell_type": "code",
   "execution_count": null,
   "id": "6fa78bea-1687-42aa-bb0a-12b7c5467799",
   "metadata": {},
   "outputs": [],
   "source": [
    "conda create --name myenv python=3.8\n"
   ]
  },
  {
   "cell_type": "markdown",
   "id": "32a7f2da-4cd0-4e63-b690-310fdd8505dc",
   "metadata": {},
   "source": [
    "This command will create a new environment with Python 3.8 (you can replace it with another version if needed).\n",
    "\n",
    "## Activate the Environment:\n",
    "\n",
    "After the environment is created, activate it by typing:"
   ]
  },
  {
   "cell_type": "code",
   "execution_count": null,
   "id": "3015a09c-acab-45e1-80bf-90689e36cb7e",
   "metadata": {},
   "outputs": [],
   "source": [
    "conda activate myenv\n"
   ]
  },
  {
   "cell_type": "markdown",
   "id": "7353fa68-4e46-4d92-8653-45e23893b1eb",
   "metadata": {},
   "source": [
    "Your terminal prompt should change to indicate that the myenv environment is active.\n",
    "\n",
    "# Step 3: Install Jupyter Notebook\n",
    "## Install Jupyter:\n",
    "\n",
    "With the environment activated, install Jupyter by running:"
   ]
  },
  {
   "cell_type": "code",
   "execution_count": null,
   "id": "f4c9a458-c9a3-4173-ba36-094d24502de1",
   "metadata": {},
   "outputs": [],
   "source": [
    "conda install jupyter\n"
   ]
  },
  {
   "cell_type": "markdown",
   "id": "d472b630-f7e6-405c-a7a9-b489eb349007",
   "metadata": {},
   "source": [
    "## Launch Jupyter:\n",
    "\n",
    "After installation, you can launch Jupyter by typing:"
   ]
  },
  {
   "cell_type": "code",
   "execution_count": null,
   "id": "0ba48654-a198-4761-a7f5-14ac9cf04604",
   "metadata": {},
   "outputs": [],
   "source": [
    "jupyter notebook\n"
   ]
  },
  {
   "cell_type": "markdown",
   "id": "d1b37df7-abed-40a8-843e-07e3b70f1fc1",
   "metadata": {},
   "source": [
    "This will open Jupyter in your default web browser.\n",
    "\n",
    "# Step 4: Set Up a Kernel for Jupyter\n",
    "## Install ipykernel:\n",
    "\n",
    "To use the myenv environment as a kernel in Jupyter, you need to install the ipykernel package:"
   ]
  },
  {
   "cell_type": "code",
   "execution_count": null,
   "id": "75fb6eff-6330-4a3a-9455-f2f877eb46ef",
   "metadata": {},
   "outputs": [],
   "source": [
    "conda install ipykernel\n"
   ]
  },
  {
   "cell_type": "markdown",
   "id": "abdd103e-126b-4f50-83f6-7554684eb8a6",
   "metadata": {},
   "source": [
    "## Add the Environment as a Jupyter Kernel:\n",
    "\n",
    "After installing ipykernel, register the myenv environment as a Jupyter kernel:"
   ]
  },
  {
   "cell_type": "code",
   "execution_count": null,
   "id": "3f9abf4a-8a43-4767-bf56-619bd3cc899a",
   "metadata": {},
   "outputs": [],
   "source": [
    "python -m ipykernel install --user --name=myenv --display-name \"Python (myenv)\"\n"
   ]
  },
  {
   "cell_type": "markdown",
   "id": "f5382124-2371-4b9f-a205-1712df2b1f07",
   "metadata": {},
   "source": [
    "# Step 5: Verify Setup\n",
    "## Check in Jupyter:\n",
    "\n",
    "Open Jupyter Notebook (jupyter notebook from terminal), and in the \"Kernel\" menu, you should now see \"Python (myenv)\" as an option.\n",
    "\n",
    "You can create a new notebook and choose this kernel to use your virtual environment.\n",
    "\n",
    "# Step 6: Install Additional Packages (Optional)\n",
    "## Install Common Libraries:\n",
    "\n",
    "Depending on your work, you may need additional libraries. For example:"
   ]
  },
  {
   "cell_type": "code",
   "execution_count": null,
   "id": "ae122a38-1f3e-4c7c-9397-26f64aa2b6ce",
   "metadata": {},
   "outputs": [],
   "source": [
    "conda install numpy pandas matplotlib scikit-learn\n"
   ]
  },
  {
   "cell_type": "markdown",
   "id": "d45d4d1d-7667-4ad1-bf26-73a9f8c974cb",
   "metadata": {},
   "source": [
    "You can install any other package that you need within your environment using conda or pip.\n",
    "\n",
    "# Step 7: Deactivate and Manage Environments\n",
    "## Deactivate the Environment:\n",
    "\n",
    "When you're done, you can deactivate the environment:"
   ]
  },
  {
   "cell_type": "code",
   "execution_count": null,
   "id": "a4e40ca3-8482-4c25-8f37-188616ffa08c",
   "metadata": {},
   "outputs": [],
   "source": [
    "conda deactivate\n"
   ]
  },
  {
   "cell_type": "markdown",
   "id": "54bdcd39-720b-451b-a8ce-b32bf2a568fa",
   "metadata": {},
   "source": [
    "## List All Environments:\n",
    "\n",
    "To see all environments on your system:"
   ]
  },
  {
   "cell_type": "code",
   "execution_count": null,
   "id": "e540445d-d350-497c-8795-f42a89cd6121",
   "metadata": {},
   "outputs": [],
   "source": [
    "conda env list\n"
   ]
  },
  {
   "cell_type": "markdown",
   "id": "94d1d7af-a060-4835-ae01-41c16d0dce08",
   "metadata": {},
   "source": [
    "## Remove an Environment:\n",
    "\n",
    "If you no longer need the environment, you can remove it by:"
   ]
  },
  {
   "cell_type": "code",
   "execution_count": null,
   "id": "6fc8e0c8-956b-43c7-ad33-2e44f37abe3d",
   "metadata": {},
   "outputs": [],
   "source": [
    "conda remove --name myenv --all\n"
   ]
  },
  {
   "cell_type": "markdown",
   "id": "c3a9a02f-f312-4c6e-82ea-9b8c2ee05159",
   "metadata": {},
   "source": [
    "# Step 8: Ready to Start Working\n",
    "Now that you've set up Anaconda, created a virtual environment, installed Jupyter, and set up the kernel, you're ready to start working on your projects. You can open Jupyter, choose the kernel, and start writing and running code in a clean, isolated environment."
   ]
  },
  {
   "cell_type": "markdown",
   "id": "c28c036b-d28d-4a5a-955b-d866385685b4",
   "metadata": {},
   "source": [
    "# Technical Requirements for Our Workshop\n",
    "\n",
    "Jupyter==1.0.0\n",
    "\n",
    "networkx==2.5\n",
    "\n",
    "snap-stanford==5.0.0\n",
    "\n",
    "matplotlib==3.2.2\n",
    "\n",
    "pandas==1.1.3\n",
    "\n",
    "numpy==1.19.2\n",
    "\n",
    "scipy==1.6.2\n",
    "\n",
    "node2vec==0.3.3\n",
    "\n",
    "karateclub==1.0.19\n",
    "\n",
    "scipy==1.6.2\n",
    "\n",
    "tensorflow==2.4.0\n",
    "\n",
    "scikit-learn==0.24.0"
   ]
  },
  {
   "cell_type": "markdown",
   "id": "8feaf3d5-9f0c-4a43-a104-b3d2f3cb4789",
   "metadata": {},
   "source": [
    "for example run\n",
    "\n",
    "```pip install networkx==2.5```"
   ]
  },
  {
   "cell_type": "code",
   "execution_count": null,
   "id": "bfcd7426-7416-416b-9cfa-11e6351942bd",
   "metadata": {},
   "outputs": [],
   "source": []
  }
 ],
 "metadata": {
  "kernelspec": {
   "display_name": "mlgBook",
   "language": "python",
   "name": "mlgbook"
  },
  "language_info": {
   "codemirror_mode": {
    "name": "ipython",
    "version": 3
   },
   "file_extension": ".py",
   "mimetype": "text/x-python",
   "name": "python",
   "nbconvert_exporter": "python",
   "pygments_lexer": "ipython3",
   "version": "3.8.20"
  }
 },
 "nbformat": 4,
 "nbformat_minor": 5
}
