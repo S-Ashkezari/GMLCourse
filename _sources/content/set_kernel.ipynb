{
 "cells": [
  {
   "cell_type": "code",
   "execution_count": 1,
   "id": "f677cf6f-e9d0-40c9-98e2-e0fbde5bf0ce",
   "metadata": {},
   "outputs": [
    {
     "name": "stdout",
     "output_type": "stream",
     "text": [
      "\u2714\ufe0f Updated: .\\set_kernel.ipynb\n",
      "\u2714\ufe0f Updated: .\\.ipynb_checkpoints\\set_kernel-checkpoint.ipynb\n",
      "\u2714\ufe0f Updated: .\\Chapter00\\chap01_intro_and_basics.ipynb\n",
      "\u2714\ufe0f Updated: .\\Chapter00\\help.ipynb\n",
      "\u2714\ufe0f Updated: .\\Chapter00\\.ipynb_checkpoints\\chap01_intro_and_basics-checkpoint.ipynb\n",
      "\u2714\ufe0f Updated: .\\Chapter01\\01_Introduction_Networkx.ipynb\n",
      "\u2714\ufe0f Updated: .\\Chapter01\\02_Graph_metrics.ipynb\n",
      "\u2714\ufe0f Updated: .\\Chapter01\\03_Graphs_Benchmarks.ipynb\n",
      "\u2714\ufe0f Updated: .\\Chapter01\\.ipynb_checkpoints\\01_Introduction_Networkx-checkpoint.ipynb\n",
      "\u2714\ufe0f Updated: .\\Chapter01\\.ipynb_checkpoints\\02_Graph_metrics-checkpoint.ipynb\n",
      "\u2714\ufe0f Updated: .\\Chapter01\\.ipynb_checkpoints\\03_Graphs_Benchmarks-checkpoint.ipynb\n",
      "\u2714\ufe0f Updated: .\\Chapter02\\01_embedding_examples.ipynb\n",
      "\u2714\ufe0f Updated: .\\Chapter02\\.ipynb_checkpoints\\01_embedding_examples-checkpoint.ipynb\n",
      "\u2714\ufe0f Updated: .\\Chapter03\\00_Unsupervised_Learning.ipynb\n",
      "\u2714\ufe0f Updated: .\\Chapter03\\01_Shallow_Embeddings.ipynb\n",
      "\u2714\ufe0f Updated: .\\Chapter03\\02_Autoencoders.ipynb\n",
      "\u2714\ufe0f Updated: .\\Chapter03\\03_Structural_deep_neural_embeddings.ipynb\n",
      "\u2714\ufe0f Updated: .\\Chapter03\\04_Graph_Neural_Network.ipynb\n",
      "\u2714\ufe0f Updated: .\\Chapter03\\.ipynb_checkpoints\\00_Unsupervised_Learning-checkpoint.ipynb\n",
      "\u2714\ufe0f Updated: .\\Chapter03\\.ipynb_checkpoints\\01_Shallow_Embeddings-checkpoint.ipynb\n",
      "\u2714\ufe0f Updated: .\\Chapter03\\.ipynb_checkpoints\\02_Autoencoders-checkpoint.ipynb\n",
      "\u2714\ufe0f Updated: .\\Chapter03\\.ipynb_checkpoints\\03_Structural_deep_neural_embeddings-checkpoint.ipynb\n",
      "\u2714\ufe0f Updated: .\\Chapter03\\.ipynb_checkpoints\\04_Graph_Neural_Network-checkpoint.ipynb\n",
      "\u2714\ufe0f Updated: .\\Chapter04\\01_Feature_based_methods.ipynb\n",
      "\u2714\ufe0f Updated: .\\Chapter04\\02_Shallow_embeddings.ipynb\n",
      "\u2714\ufe0f Updated: .\\Chapter04\\03_Graph_regularization_graph_neural_training.ipynb\n",
      "\u2714\ufe0f Updated: .\\Chapter04\\04_Graph_Neural_Networks.ipynb\n",
      "\u2714\ufe0f Updated: .\\Chapter04\\.ipynb_checkpoints\\01_Feature_based_methods-checkpoint.ipynb\n",
      "\u2714\ufe0f Updated: .\\Chapter04\\.ipynb_checkpoints\\02_Shallow_embeddings-checkpoint.ipynb\n",
      "\u2714\ufe0f Updated: .\\Chapter04\\.ipynb_checkpoints\\03_Graph_regularization_graph_neural_training-checkpoint.ipynb\n",
      "\u2714\ufe0f Updated: .\\Chapter04\\.ipynb_checkpoints\\04_Graph_Neural_Networks-checkpoint.ipynb\n",
      "\u2714\ufe0f Updated: .\\Chapter05\\01_link_prediction.ipynb\n",
      "\u2714\ufe0f Updated: .\\Chapter05\\02_community_detection_algorithms.ipynb\n",
      "\u2714\ufe0f Updated: .\\Chapter05\\.ipynb_checkpoints\\01_link_prediction-checkpoint.ipynb\n",
      "\u2714\ufe0f Updated: .\\Chapter05\\.ipynb_checkpoints\\02_community_detection_algorithms-checkpoint.ipynb\n"
     ]
    }
   ],
   "source": [
    "import os\n",
    "import json\n",
    "\n",
    "new_kernel = {\n",
    "    \"name\": \"mlgbook\",\n",
    "    \"display_name\": \"Python 3\",\n",
    "    \"language\": \"python\"\n",
    "}\n",
    "\n",
    "def update_kernelspecs(path=\".\"):\n",
    "    for root, _, files in os.walk(path):\n",
    "        for file in files:\n",
    "            if file.endswith(\".ipynb\"):\n",
    "                full_path = os.path.join(root, file)\n",
    "                try:\n",
    "                    with open(full_path, \"r\", encoding=\"utf-8\") as f:\n",
    "                        data = json.load(f)\n",
    "\n",
    "                    if \"metadata\" not in data:\n",
    "                        data[\"metadata\"] = {}\n",
    "\n",
    "                    data[\"metadata\"][\"kernelspec\"] = new_kernel\n",
    "\n",
    "                    with open(full_path, \"w\", encoding=\"utf-8\") as f:\n",
    "                        json.dump(data, f, indent=1)\n",
    "                    \n",
    "                    print(f\"\u2714\ufe0f Updated: {full_path}\")\n",
    "                except Exception as e:\n",
    "                    print(f\"\u26a0\ufe0f Error in {full_path}: {e}\")\n",
    "\n",
    "update_kernelspecs()\n"
   ]
  },
  {
   "cell_type": "code",
   "execution_count": null,
   "id": "cb526844-212e-4cdf-8eea-3862c928275f",
   "metadata": {},
   "outputs": [],
   "source": []
  }
 ],
 "metadata": {
  "kernelspec": {
   "name": "mlgbook",
   "display_name": "Python 3",
   "language": "python"
  },
  "language_info": {
   "codemirror_mode": {
    "name": "ipython",
    "version": 3
   },
   "file_extension": ".py",
   "mimetype": "text/x-python",
   "name": "python",
   "nbconvert_exporter": "python",
   "pygments_lexer": "ipython3",
   "version": "3.8.20"
  }
 },
 "nbformat": 4,
 "nbformat_minor": 5
}